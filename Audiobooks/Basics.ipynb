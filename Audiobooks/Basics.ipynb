{
 "cells": [
  {
   "cell_type": "markdown",
   "id": "47743854",
   "metadata": {},
   "source": [
    "# Variables"
   ]
  },
  {
   "cell_type": "code",
   "execution_count": 1,
   "id": "8ab4ce59",
   "metadata": {},
   "outputs": [],
   "source": [
    "x=5\n"
   ]
  },
  {
   "cell_type": "code",
   "execution_count": 2,
   "id": "abd32ee1",
   "metadata": {},
   "outputs": [
    {
     "name": "stdout",
     "output_type": "stream",
     "text": [
      "5\n"
     ]
    }
   ],
   "source": [
    "print(x)"
   ]
  },
  {
   "cell_type": "code",
   "execution_count": 3,
   "id": "e0a1c030",
   "metadata": {},
   "outputs": [],
   "source": [
    "y=6"
   ]
  },
  {
   "cell_type": "code",
   "execution_count": 4,
   "id": "a4d183d6",
   "metadata": {},
   "outputs": [
    {
     "data": {
      "text/plain": [
       "6"
      ]
     },
     "execution_count": 4,
     "metadata": {},
     "output_type": "execute_result"
    }
   ],
   "source": [
    "y"
   ]
  },
  {
   "cell_type": "code",
   "execution_count": 5,
   "id": "f5fa1997",
   "metadata": {},
   "outputs": [],
   "source": [
    "x,y = (1,4.5)"
   ]
  },
  {
   "cell_type": "code",
   "execution_count": 6,
   "id": "c0eb46b0",
   "metadata": {},
   "outputs": [
    {
     "data": {
      "text/plain": [
       "(1, 4.5)"
      ]
     },
     "execution_count": 6,
     "metadata": {},
     "output_type": "execute_result"
    }
   ],
   "source": [
    "x,y"
   ]
  },
  {
   "cell_type": "code",
   "execution_count": 7,
   "id": "a6a65586",
   "metadata": {},
   "outputs": [
    {
     "data": {
      "text/plain": [
       "float"
      ]
     },
     "execution_count": 7,
     "metadata": {},
     "output_type": "execute_result"
    }
   ],
   "source": [
    "type(y)"
   ]
  },
  {
   "cell_type": "code",
   "execution_count": 8,
   "id": "58a87558",
   "metadata": {},
   "outputs": [
    {
     "data": {
      "text/plain": [
       "4"
      ]
     },
     "execution_count": 8,
     "metadata": {},
     "output_type": "execute_result"
    }
   ],
   "source": [
    "int(y)"
   ]
  },
  {
   "cell_type": "code",
   "execution_count": 9,
   "id": "dd9daca6",
   "metadata": {},
   "outputs": [
    {
     "data": {
      "text/plain": [
       "1.0"
      ]
     },
     "execution_count": 9,
     "metadata": {},
     "output_type": "execute_result"
    }
   ],
   "source": [
    "float(x)"
   ]
  },
  {
   "cell_type": "code",
   "execution_count": 10,
   "id": "7919f4c5",
   "metadata": {},
   "outputs": [],
   "source": [
    "z = False"
   ]
  },
  {
   "cell_type": "code",
   "execution_count": 11,
   "id": "fd8797ec",
   "metadata": {},
   "outputs": [
    {
     "data": {
      "text/plain": [
       "bool"
      ]
     },
     "execution_count": 11,
     "metadata": {},
     "output_type": "execute_result"
    }
   ],
   "source": [
    "type(z)"
   ]
  },
  {
   "cell_type": "code",
   "execution_count": 12,
   "id": "5f485afa",
   "metadata": {},
   "outputs": [
    {
     "data": {
      "text/plain": [
       "'Gerorge'"
      ]
     },
     "execution_count": 12,
     "metadata": {},
     "output_type": "execute_result"
    }
   ],
   "source": [
    "'Gerorge'"
   ]
  },
  {
   "cell_type": "code",
   "execution_count": 13,
   "id": "ee6f689c",
   "metadata": {},
   "outputs": [
    {
     "data": {
      "text/plain": [
       "'George'"
      ]
     },
     "execution_count": 13,
     "metadata": {},
     "output_type": "execute_result"
    }
   ],
   "source": [
    "\"George\""
   ]
  },
  {
   "cell_type": "code",
   "execution_count": 14,
   "id": "c1882d7a",
   "metadata": {},
   "outputs": [],
   "source": [
    "x = 'Gerorge'"
   ]
  },
  {
   "cell_type": "code",
   "execution_count": 15,
   "id": "f9c00b40",
   "metadata": {},
   "outputs": [
    {
     "data": {
      "text/plain": [
       "str"
      ]
     },
     "execution_count": 15,
     "metadata": {},
     "output_type": "execute_result"
    }
   ],
   "source": [
    "type(x)"
   ]
  },
  {
   "cell_type": "code",
   "execution_count": 16,
   "id": "91aa97d1",
   "metadata": {},
   "outputs": [
    {
     "ename": "TypeError",
     "evalue": "unsupported operand type(s) for +: 'float' and 'str'",
     "output_type": "error",
     "traceback": [
      "\u001b[1;31m---------------------------------------------------------------------------\u001b[0m",
      "\u001b[1;31mTypeError\u001b[0m                                 Traceback (most recent call last)",
      "\u001b[1;32m<ipython-input-16-512041f41c22>\u001b[0m in \u001b[0;36m<module>\u001b[1;34m\u001b[0m\n\u001b[0;32m      1\u001b[0m \u001b[0mv\u001b[0m \u001b[1;33m=\u001b[0m \u001b[1;36m10\u001b[0m\u001b[1;33m\u001b[0m\u001b[1;33m\u001b[0m\u001b[0m\n\u001b[0;32m      2\u001b[0m \u001b[0mtype\u001b[0m\u001b[1;33m(\u001b[0m\u001b[0mv\u001b[0m\u001b[1;33m)\u001b[0m\u001b[1;33m\u001b[0m\u001b[1;33m\u001b[0m\u001b[0m\n\u001b[1;32m----> 3\u001b[1;33m \u001b[0mprint\u001b[0m\u001b[1;33m(\u001b[0m\u001b[0my\u001b[0m \u001b[1;33m+\u001b[0m \u001b[1;34m\"Dollars\"\u001b[0m\u001b[1;33m)\u001b[0m\u001b[1;33m\u001b[0m\u001b[1;33m\u001b[0m\u001b[0m\n\u001b[0m",
      "\u001b[1;31mTypeError\u001b[0m: unsupported operand type(s) for +: 'float' and 'str'"
     ]
    }
   ],
   "source": [
    "v = 10\n",
    "type(v)\n",
    "print(y + \"Dollars\")"
   ]
  },
  {
   "cell_type": "code",
   "execution_count": 17,
   "id": "79253669",
   "metadata": {},
   "outputs": [
    {
     "name": "stdout",
     "output_type": "stream",
     "text": [
      "10 Dollars\n"
     ]
    }
   ],
   "source": [
    "v = 10\n",
    "print(str(v) + \" Dollars\")"
   ]
  },
  {
   "cell_type": "code",
   "execution_count": 18,
   "id": "38fde6a9",
   "metadata": {},
   "outputs": [
    {
     "data": {
      "text/plain": [
       "'redcar'"
      ]
     },
     "execution_count": 18,
     "metadata": {},
     "output_type": "execute_result"
    }
   ],
   "source": [
    "'red' + 'car'"
   ]
  },
  {
   "cell_type": "code",
   "execution_count": 19,
   "id": "58e08f5d",
   "metadata": {},
   "outputs": [
    {
     "name": "stdout",
     "output_type": "stream",
     "text": [
      "RedCar\n"
     ]
    }
   ],
   "source": [
    "print('Red' + 'Car')"
   ]
  },
  {
   "cell_type": "code",
   "execution_count": 20,
   "id": "812c90e3",
   "metadata": {},
   "outputs": [
    {
     "name": "stdout",
     "output_type": "stream",
     "text": [
      "red car\n"
     ]
    }
   ],
   "source": [
    "print('red' , 'car')"
   ]
  },
  {
   "cell_type": "code",
   "execution_count": 21,
   "id": "5ea980b5",
   "metadata": {},
   "outputs": [],
   "source": [
    "A = (3,5, 9.6 , 5, 8, 6) "
   ]
  },
  {
   "cell_type": "code",
   "execution_count": 22,
   "id": "095ac0df",
   "metadata": {},
   "outputs": [
    {
     "data": {
      "text/plain": [
       "(3, 5, 9.6, 5, 8, 6)"
      ]
     },
     "execution_count": 22,
     "metadata": {},
     "output_type": "execute_result"
    }
   ],
   "source": [
    "A"
   ]
  },
  {
   "cell_type": "code",
   "execution_count": 23,
   "id": "c3b0d73b",
   "metadata": {},
   "outputs": [
    {
     "data": {
      "text/plain": [
       "8"
      ]
     },
     "execution_count": 23,
     "metadata": {},
     "output_type": "execute_result"
    }
   ],
   "source": [
    "A [-2]"
   ]
  },
  {
   "cell_type": "code",
   "execution_count": 24,
   "id": "fb0653ec",
   "metadata": {},
   "outputs": [
    {
     "data": {
      "text/plain": [
       "2162"
      ]
     },
     "execution_count": 24,
     "metadata": {},
     "output_type": "execute_result"
    }
   ],
   "source": [
    "105 * 20 + 30 + \\\n",
    "20 + 52 - 40"
   ]
  },
  {
   "cell_type": "code",
   "execution_count": 25,
   "id": "7041a66b",
   "metadata": {},
   "outputs": [
    {
     "data": {
      "text/plain": [
       "'n'"
      ]
     },
     "execution_count": 25,
     "metadata": {},
     "output_type": "execute_result"
    }
   ],
   "source": [
    "\"Monday\" [2]\n"
   ]
  },
  {
   "cell_type": "code",
   "execution_count": 26,
   "id": "51e62e66",
   "metadata": {},
   "outputs": [
    {
     "name": "stdout",
     "output_type": "stream",
     "text": [
      "66\n",
      "5\n"
     ]
    }
   ],
   "source": [
    "def five(x):\n",
    "    x = 5\n",
    "    print (66)\n",
    "    return x\n",
    "print(five(3))  \n"
   ]
  },
  {
   "cell_type": "code",
   "execution_count": 27,
   "id": "10a9a81e",
   "metadata": {},
   "outputs": [],
   "source": [
    "x = 4\n",
    "y = 2\n"
   ]
  },
  {
   "cell_type": "code",
   "execution_count": 28,
   "id": "a5703891",
   "metadata": {},
   "outputs": [
    {
     "name": "stdout",
     "output_type": "stream",
     "text": [
      "(6, 8)\n"
     ]
    }
   ],
   "source": [
    "def six(y,x):\n",
    "    x = 6\n",
    "    y = 8\n",
    "    return x,y\n",
    "\n",
    "print(six(x,y))\n",
    " "
   ]
  },
  {
   "cell_type": "markdown",
   "id": "ddfae323",
   "metadata": {},
   "source": [
    "# LIST"
   ]
  },
  {
   "cell_type": "code",
   "execution_count": 29,
   "id": "c4b3b694",
   "metadata": {},
   "outputs": [
    {
     "data": {
      "text/plain": [
       "['Josh', 'anna', 'sara', 'Zara']"
      ]
     },
     "execution_count": 29,
     "metadata": {},
     "output_type": "execute_result"
    }
   ],
   "source": [
    "\n",
    "Participants = ['Josh', 'anna', 'sara', 'Zara']\n",
    "Participants"
   ]
  },
  {
   "cell_type": "code",
   "execution_count": 30,
   "id": "0786b5e0",
   "metadata": {},
   "outputs": [
    {
     "data": {
      "text/plain": [
       "['Josh', 'anna', 'sara', 'Zara']"
      ]
     },
     "execution_count": 30,
     "metadata": {},
     "output_type": "execute_result"
    }
   ],
   "source": [
    "#del Participants [1]\n",
    "Participants"
   ]
  },
  {
   "cell_type": "code",
   "execution_count": 31,
   "id": "48fa9f32",
   "metadata": {},
   "outputs": [],
   "source": [
    "Participants [3] = 'sadia'"
   ]
  },
  {
   "cell_type": "code",
   "execution_count": 32,
   "id": "b62e13a6",
   "metadata": {},
   "outputs": [
    {
     "data": {
      "text/plain": [
       "['Josh', 'anna', 'sara', 'sadia']"
      ]
     },
     "execution_count": 32,
     "metadata": {},
     "output_type": "execute_result"
    }
   ],
   "source": [
    "Participants "
   ]
  },
  {
   "cell_type": "code",
   "execution_count": 33,
   "id": "896e6e01",
   "metadata": {},
   "outputs": [],
   "source": [
    "del Participants [2]"
   ]
  },
  {
   "cell_type": "code",
   "execution_count": 34,
   "id": "25c9aeba",
   "metadata": {},
   "outputs": [
    {
     "data": {
      "text/plain": [
       "['Josh', 'anna', 'sadia']"
      ]
     },
     "execution_count": 34,
     "metadata": {},
     "output_type": "execute_result"
    }
   ],
   "source": [
    " Participants"
   ]
  },
  {
   "cell_type": "markdown",
   "id": "147356d0",
   "metadata": {},
   "source": [
    "# Python Packages for Datascience"
   ]
  },
  {
   "cell_type": "code",
   "execution_count": 35,
   "id": "9eacd04b",
   "metadata": {},
   "outputs": [],
   "source": [
    "import numpy as np\n",
    "import pandas as pd\n",
    "import scipy\n",
    "import statsmodels.api as sm\n",
    "import matplotlib as plt\n",
    "import seaborn as sns\n",
    "import sklearn"
   ]
  },
  {
   "cell_type": "code",
   "execution_count": null,
   "id": "f5aff03e",
   "metadata": {},
   "outputs": [],
   "source": []
  },
  {
   "cell_type": "code",
   "execution_count": 36,
   "id": "8ca29ff9",
   "metadata": {},
   "outputs": [
    {
     "data": {
      "text/plain": [
       "array([[ 0,  1,  2,  3,  4],\n",
       "       [ 5,  6,  7,  8,  9],\n",
       "       [10, 11, 12, 13, 14],\n",
       "       [15, 16, 17, 18, 19],\n",
       "       [20, 21, 22, 23, 24],\n",
       "       [25, 26, 27, 28, 29],\n",
       "       [30, 31, 32, 33, 34],\n",
       "       [35, 36, 37, 38, 39],\n",
       "       [40, 41, 42, 43, 44],\n",
       "       [45, 46, 47, 48, 49]])"
      ]
     },
     "execution_count": 36,
     "metadata": {},
     "output_type": "execute_result"
    }
   ],
   "source": [
    "v= np.arange(50)\n",
    "v= v.reshape(10,5)\n",
    "v"
   ]
  },
  {
   "cell_type": "code",
   "execution_count": 37,
   "id": "953b4aac",
   "metadata": {},
   "outputs": [
    {
     "data": {
      "text/plain": [
       "array([[ 1,  2,  3],\n",
       "       [ 6,  7,  8],\n",
       "       [11, 12, 13],\n",
       "       [16, 17, 18],\n",
       "       [21, 22, 23],\n",
       "       [26, 27, 28],\n",
       "       [31, 32, 33],\n",
       "       [36, 37, 38],\n",
       "       [41, 42, 43],\n",
       "       [46, 47, 48]])"
      ]
     },
     "execution_count": 37,
     "metadata": {},
     "output_type": "execute_result"
    }
   ],
   "source": [
    "n = v[:,1:-1]\n",
    "n"
   ]
  },
  {
   "cell_type": "code",
   "execution_count": null,
   "id": "0439d8f4",
   "metadata": {},
   "outputs": [],
   "source": [
    "b= v[:,-1]\n",
    "bbb"
   ]
  },
  {
   "cell_type": "code",
   "execution_count": null,
   "id": "cb383f41",
   "metadata": {},
   "outputs": [],
   "source": [
    "indi=[]\n",
    "count=0\n",
    "for i in range(b.shape[0]):\n",
    "    if b[i] == 9:\n",
    "        count +=1\n",
    "        if count > 1:\n",
    "            indi.append(i)\n",
    "    "
   ]
  },
  {
   "cell_type": "code",
   "execution_count": null,
   "id": "5ef36d0d",
   "metadata": {},
   "outputs": [],
   "source": [
    "tri= int(0.8*b.shape[0])\n",
    "tri"
   ]
  },
  {
   "cell_type": "code",
   "execution_count": null,
   "id": "40a631f4",
   "metadata": {},
   "outputs": [],
   "source": [
    "vali = int(0.1*b.shape[0])\n",
    "vali"
   ]
  },
  {
   "cell_type": "code",
   "execution_count": null,
   "id": "125ada7e",
   "metadata": {},
   "outputs": [],
   "source": [
    "test = b.shape[0]- tri - vali\n",
    "test"
   ]
  },
  {
   "cell_type": "code",
   "execution_count": null,
   "id": "cd77a857",
   "metadata": {},
   "outputs": [],
   "source": []
  },
  {
   "cell_type": "code",
   "execution_count": null,
   "id": "974d8e8d",
   "metadata": {},
   "outputs": [],
   "source": []
  },
  {
   "cell_type": "code",
   "execution_count": null,
   "id": "6dca2afd",
   "metadata": {},
   "outputs": [],
   "source": []
  }
 ],
 "metadata": {
  "kernelspec": {
   "display_name": "Python 3",
   "language": "python",
   "name": "python3"
  },
  "language_info": {
   "codemirror_mode": {
    "name": "ipython",
    "version": 3
   },
   "file_extension": ".py",
   "mimetype": "text/x-python",
   "name": "python",
   "nbconvert_exporter": "python",
   "pygments_lexer": "ipython3",
   "version": "3.8.8"
  }
 },
 "nbformat": 4,
 "nbformat_minor": 5
}
