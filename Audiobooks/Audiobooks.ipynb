{
 "cells": [
  {
   "cell_type": "markdown",
   "id": "dc4bcd52",
   "metadata": {},
   "source": [
    "## Problem\n",
    "\n",
    "You are given data from an Audiobook app. Logically, it relates only to the audio versions of books. Each customer in the database has made a purchase at least once, that's why he/she is in the database. We want to create a machine learning algorithm based on our available data that can predict if a customer will buy again from the Audiobook company.\n",
    "\n",
    "The main idea is that if a customer has a low probability of coming back, there is no reason to spend any money on advertizing to him/her. If we can focus our efforts ONLY on customers that are likely to convert again, we can make great savings. Moreover, this model can identify the most important metrics for a customer to come back again. Identifying new customers creates value and growth opportunities.\n",
    "\n",
    "You have a .csv summarizing the data. There are several variables: Customer ID, Book length in mins_avg (average of all purchases), Book length in minutes_sum (sum of all purchases), Price Paid_avg (average of all purchases), Price paid_sum (sum of all purchases), Review (a Boolean variable), Review (out of 10), Total minutes listened, Completion (from 0 to 1), Support requests (number), and Last visited minus purchase date (in days).\n",
    "\n",
    "So these are the inputs (excluding customer ID, as it is completely arbitrary. It's more like a name, than a number).\n",
    "\n",
    "The targets are a Boolean variable (so 0, or 1). We are taking a period of 2 years in our inputs, and the next 6 months as targets. So, in fact, we are predicting if: based on the last 2 years of activity and engagement, a customer will convert in the next 6 months. 6 months sounds like a reasonable time. If they don't convert after 6 months, chances are they've gone to a competitor or didn't like the Audiobook way of digesting information. \n",
    "\n",
    "The task is simple: create a machine learning algorithm, which is able to predict if a customer will buy again. \n",
    "\n",
    "This is a classification problem with two classes: won't buy and will buy, represented by 0s and 1s. \n",
    "\n",
    "Good luck!"
   ]
  },
  {
   "cell_type": "markdown",
   "id": "18e4721c",
   "metadata": {},
   "source": [
    "# Preprocess data,Balance the data set, create 3 data sets:: training , validation and test. Save the new in tensor friendly format *.npz\n"
   ]
  },
  {
   "cell_type": "markdown",
   "id": "e9c05ecd",
   "metadata": {},
   "source": [
    "## Extract Data from CSV\n"
   ]
  },
  {
   "cell_type": "code",
   "execution_count": 1,
   "id": "5b7cdcb2",
   "metadata": {
    "scrolled": true
   },
   "outputs": [
    {
     "name": "stdout",
     "output_type": "stream",
     "text": [
      "(14084, 12)\n",
      "(14084,)\n",
      "(14084, 10)\n"
     ]
    }
   ],
   "source": [
    "import numpy as np\n",
    "import pandas as pd\n",
    "from sklearn import preprocessing\n",
    "import warnings\n",
    "warnings.filterwarnings('ignore')\n",
    "  \n",
    "raw_csv_data = np.loadtxt('Audiobooks_data.csv',delimiter=',')\n",
    "\n",
    "unscaled_inputs_all = raw_csv_data[:,1:-1]\n",
    "targets_all = raw_csv_data [:,-1]\n",
    "\n",
    "\n",
    "print(raw_csv_data.shape)\n",
    "print(targets_all.shape)\n",
    "print(unscaled_inputs_all.shape) \n"
   ]
  },
  {
   "cell_type": "markdown",
   "id": "da82f6f9",
   "metadata": {},
   "source": [
    "## Balance dataset"
   ]
  },
  {
   "cell_type": "code",
   "execution_count": 2,
   "id": "025f9e3b",
   "metadata": {},
   "outputs": [
    {
     "name": "stdout",
     "output_type": "stream",
     "text": [
      "(4474, 10)\n",
      "(4474,)\n"
     ]
    }
   ],
   "source": [
    "num_one_targets = int(np.sum(targets_all))\n",
    "zero_targets_counter = 0\n",
    "indices_to_remove = []\n",
    "\n",
    "\n",
    "for i in range(targets_all.shape[0]):\n",
    "    if targets_all[i] ==0:\n",
    "        zero_targets_counter += 1\n",
    "        if zero_targets_counter > num_one_targets:\n",
    "            indices_to_remove.append(i)\n",
    "        \n",
    "unscaled_inputs_equal_priors = np.delete(unscaled_inputs_all, indices_to_remove, axis = 0 )\n",
    "targets_equal_priors = np.delete(targets_all, indices_to_remove, axis = 0)\n",
    "  \n",
    "\n",
    "\n",
    "print(unscaled_inputs_equal_priors.shape)\n",
    "print(targets_equal_priors.shape) \n",
    "\n"
   ]
  },
  {
   "cell_type": "code",
   "execution_count": null,
   "id": "81a68a87",
   "metadata": {},
   "outputs": [],
   "source": []
  },
  {
   "cell_type": "markdown",
   "id": "c5ad079b",
   "metadata": {},
   "source": [
    "## Standerdize inputs"
   ]
  },
  {
   "cell_type": "code",
   "execution_count": 3,
   "id": "5c81a66a",
   "metadata": {},
   "outputs": [],
   "source": [
    "scaled_inputs = preprocessing.scale(unscaled_inputs_equal_priors)\n",
    "\n"
   ]
  },
  {
   "cell_type": "markdown",
   "id": "93973cd3",
   "metadata": {},
   "source": [
    "# Shuffle data"
   ]
  },
  {
   "cell_type": "code",
   "execution_count": 4,
   "id": "9164a864",
   "metadata": {},
   "outputs": [],
   "source": [
    "shuffled_indices = np.arange(scaled_inputs.shape[0])\n",
    "np.random.shuffle(shuffled_indices)\n",
    "\n",
    "shuffled_inputs = scaled_inputs[shuffled_indices]\n",
    "shuffled_targets = targets_equal_priors[shuffled_indices]"
   ]
  },
  {
   "cell_type": "code",
   "execution_count": null,
   "id": "2e21785e",
   "metadata": {},
   "outputs": [],
   "source": []
  },
  {
   "cell_type": "markdown",
   "id": "7b264b3a",
   "metadata": {},
   "source": [
    "# Creating 3 Data sets"
   ]
  },
  {
   "cell_type": "code",
   "execution_count": 5,
   "id": "73c47ffc",
   "metadata": {},
   "outputs": [],
   "source": [
    "samples_count = shuffled_inputs.shape [0]\n",
    "\n",
    "train_samples_count = int(0.8*samples_count)\n",
    "validation_samples_count = int(0.1*samples_count)\n",
    "test_samples_count = samples_count  - train_samples_count - validation_samples_count\n",
    "\n",
    "train_inputs = shuffled_inputs[:train_samples_count]\n",
    "train_targets = shuffled_targets[:train_samples_count]\n",
    "\n",
    "validation_inputs = shuffled_inputs[train_samples_count:train_samples_count + validation_samples_count]\n",
    "validation_targets = shuffled_targets[train_samples_count:train_samples_count+validation_samples_count]\n",
    "\n",
    "\n",
    "test_inputs   = shuffled_inputs[train_samples_count + validation_samples_count:]\n",
    "test_targets = shuffled_targets[train_samples_count + validation_samples_count:]\n"
   ]
  },
  {
   "cell_type": "code",
   "execution_count": 6,
   "id": "d3ebce4e",
   "metadata": {},
   "outputs": [
    {
     "name": "stdout",
     "output_type": "stream",
     "text": [
      "1765.0 3579 0.49315451243364067\n",
      "234.0 447 0.5234899328859061\n",
      "238.0 448 0.53125\n"
     ]
    }
   ],
   "source": [
    "print(np.sum(train_targets), train_samples_count, np.sum(train_targets)/train_samples_count)\n",
    "print(np.sum(validation_targets), validation_samples_count, np.sum(validation_targets)/validation_samples_count)\n",
    "print(np.sum(test_targets), test_samples_count, np.sum(test_targets)/test_samples_count)"
   ]
  },
  {
   "cell_type": "code",
   "execution_count": null,
   "id": "58a91103",
   "metadata": {},
   "outputs": [],
   "source": []
  },
  {
   "cell_type": "markdown",
   "id": "c7601e47",
   "metadata": {},
   "source": [
    "# Save the three datasets in *.npz"
   ]
  },
  {
   "cell_type": "code",
   "execution_count": 7,
   "id": "4ddfff77",
   "metadata": {},
   "outputs": [],
   "source": [
    "np.savez('Audiobooks_data_train', inputs = train_inputs, targets= train_targets)\n",
    "np.savez('Audiobooks_data_validation', inputs = validation_inputs, targets= validation_targets)\n",
    "np.savez('Audiobooks_data_test', inputs = test_inputs, targets= test_targets)"
   ]
  },
  {
   "cell_type": "markdown",
   "id": "8ef7541f",
   "metadata": {},
   "source": [
    "## Create the machine learning algorithm\n"
   ]
  },
  {
   "cell_type": "markdown",
   "id": "ca475205",
   "metadata": {},
   "source": [
    "### Import the relevant libraries"
   ]
  },
  {
   "cell_type": "code",
   "execution_count": 8,
   "id": "63d1eb6b",
   "metadata": {},
   "outputs": [],
   "source": [
    "import tensorflow as tf"
   ]
  },
  {
   "cell_type": "markdown",
   "id": "bb7e254c",
   "metadata": {},
   "source": [
    "### Data\n"
   ]
  },
  {
   "cell_type": "code",
   "execution_count": 9,
   "id": "2bb564ed",
   "metadata": {},
   "outputs": [],
   "source": [
    "npz = np.load('Audiobooks_data_train.npz')\n",
    "train_inputs = npz['inputs'].astype(np.float)\n",
    "\n",
    "train_targets = npz['targets'].astype(np.int)\n",
    "\n",
    "npz = np.load('Audiobooks_data_validation.npz')\n",
    "validation_inputs, validation_targets = npz['inputs'].astype(np.float), npz['targets'].astype(np.int)\n",
    "\n",
    "npz = np.load('Audiobooks_data_test.npz')\n",
    "\n",
    "test_inputs, test_targets = npz['inputs'].astype(np.float), npz['targets'].astype(np.int)"
   ]
  },
  {
   "cell_type": "markdown",
   "id": "7186dd9d",
   "metadata": {},
   "source": [
    "### Model\n",
    "Outline, optimizers, loss, early stopping and training"
   ]
  },
  {
   "cell_type": "code",
   "execution_count": 10,
   "id": "0582f3c3",
   "metadata": {},
   "outputs": [
    {
     "name": "stdout",
     "output_type": "stream",
     "text": [
      "Epoch 1/100\n",
      "36/36 - 0s - loss: 0.6257 - accuracy: 0.6370 - val_loss: 0.5184 - val_accuracy: 0.7338\n",
      "Epoch 2/100\n",
      "36/36 - 0s - loss: 0.4924 - accuracy: 0.7499 - val_loss: 0.4437 - val_accuracy: 0.7405\n",
      "Epoch 3/100\n",
      "36/36 - 0s - loss: 0.4298 - accuracy: 0.7748 - val_loss: 0.4051 - val_accuracy: 0.7539\n",
      "Epoch 4/100\n",
      "36/36 - 0s - loss: 0.3942 - accuracy: 0.7890 - val_loss: 0.3843 - val_accuracy: 0.7808\n",
      "Epoch 5/100\n",
      "36/36 - 0s - loss: 0.3747 - accuracy: 0.7969 - val_loss: 0.3662 - val_accuracy: 0.8188\n",
      "Epoch 6/100\n",
      "36/36 - 0s - loss: 0.3603 - accuracy: 0.8094 - val_loss: 0.3608 - val_accuracy: 0.8031\n",
      "Epoch 7/100\n",
      "36/36 - 0s - loss: 0.3510 - accuracy: 0.8134 - val_loss: 0.3534 - val_accuracy: 0.8188\n",
      "Epoch 8/100\n",
      "36/36 - 0s - loss: 0.3453 - accuracy: 0.8181 - val_loss: 0.3600 - val_accuracy: 0.7875\n",
      "Epoch 9/100\n",
      "36/36 - 0s - loss: 0.3410 - accuracy: 0.8148 - val_loss: 0.3572 - val_accuracy: 0.7987\n"
     ]
    },
    {
     "data": {
      "text/plain": [
       "<tensorflow.python.keras.callbacks.History at 0x19f49dfcb80>"
      ]
     },
     "execution_count": 10,
     "metadata": {},
     "output_type": "execute_result"
    }
   ],
   "source": [
    "input_size = 10\n",
    "output_size = 2\n",
    "hidden_layer_size = 50\n",
    "    \n",
    "model = tf.keras.Sequential([\n",
    "    # tf.keras.layers.Dense is basically implementing: output = activation(dot(input, weight) + bias)\n",
    "    # it takes several arguments, but the most important ones for us are the hidden_layer_size and the activation function\n",
    "    tf.keras.layers.Dense(hidden_layer_size, activation='relu'), # 1st hidden layer\n",
    "    tf.keras.layers.Dense(hidden_layer_size, activation='relu'), # 2nd hidden layer\n",
    "    # the final layer is no different, we just make sure to activate it with softmax\n",
    "    tf.keras.layers.Dense(output_size, activation='softmax') # output layer\n",
    "])\n",
    "\n",
    "\n",
    "### Choose the optimizer and the loss function\n",
    "\n",
    "model.compile(optimizer='adam', loss='sparse_categorical_crossentropy', metrics=['accuracy'])\n",
    "\n",
    "### Training\n",
    "\n",
    "batch_size = 100\n",
    "\n",
    "max_epochs = 100\n",
    "\n",
    "early_stopping = tf.keras.callbacks.EarlyStopping(patience=2)\n",
    "\n",
    "# fit the model\n",
    "model.fit(train_inputs,  \n",
    "          train_targets,  \n",
    "          batch_size=batch_size,  \n",
    "          epochs=max_epochs,  \n",
    "          \n",
    "          callbacks=[early_stopping],  \n",
    "          validation_data=(validation_inputs, validation_targets),  \n",
    "          verbose = 2  \n",
    "          )  "
   ]
  },
  {
   "cell_type": "markdown",
   "id": "e1b4b7cc",
   "metadata": {},
   "source": [
    "## Test the model\n",
    "\n",
    "As we discussed in the lectures, after training on the training data and validating on the validation data, we test the final prediction power of our model by running it on the test dataset that the algorithm has NEVER seen before.\n",
    "\n",
    "It is very important to realize that fiddling with the hyperparameters overfits the validation dataset. \n",
    "\n",
    "The test is the absolute final instance. You should not test before you are completely done with adjusting your model.\n",
    "\n",
    "If you adjust your model after testing, you will start overfitting the test dataset, which will defeat its purpose."
   ]
  },
  {
   "cell_type": "code",
   "execution_count": 11,
   "id": "008fb638",
   "metadata": {},
   "outputs": [
    {
     "name": "stdout",
     "output_type": "stream",
     "text": [
      "14/14 [==============================] - 0s 1ms/step - loss: 0.3579 - accuracy: 0.8080\n"
     ]
    }
   ],
   "source": [
    "test_loss, test_accuracy = model.evaluate(test_inputs, test_targets)"
   ]
  },
  {
   "cell_type": "code",
   "execution_count": 12,
   "id": "c141a564",
   "metadata": {},
   "outputs": [
    {
     "name": "stdout",
     "output_type": "stream",
     "text": [
      "\n",
      "Test loss: 0.36. Test accuracy: 80.80%\n"
     ]
    }
   ],
   "source": [
    "print('\\nTest loss: {0:.2f}. Test accuracy: {1:.2f}%'.format(test_loss, test_accuracy*100.))"
   ]
  },
  {
   "cell_type": "markdown",
   "id": "f4e45aa9",
   "metadata": {},
   "source": [
    "Using the initial model and hyperparameters given in this notebook, the final test accuracy should be roughly around 91%.\n",
    "\n",
    "Note that each time the code is rerun, we get a different accuracy because each training is different. "
   ]
  },
  {
   "cell_type": "code",
   "execution_count": null,
   "id": "82a5837c",
   "metadata": {},
   "outputs": [],
   "source": []
  }
 ],
 "metadata": {
  "kernelspec": {
   "display_name": "Python 3",
   "language": "python",
   "name": "python3"
  },
  "language_info": {
   "codemirror_mode": {
    "name": "ipython",
    "version": 3
   },
   "file_extension": ".py",
   "mimetype": "text/x-python",
   "name": "python",
   "nbconvert_exporter": "python",
   "pygments_lexer": "ipython3",
   "version": "3.8.8"
  }
 },
 "nbformat": 4,
 "nbformat_minor": 5
}
